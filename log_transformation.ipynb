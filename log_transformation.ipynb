{
 "cells": [
  {
   "cell_type": "code",
   "execution_count": null,
   "metadata": {},
   "outputs": [],
   "source": [
    "import cv2 \n",
    "import numpy as np \n",
    "import matplotlib.pyplot as plt \n",
    "   \n",
    "# Reading image \n",
    "image = cv2.imread('GFG.png') \n",
    "   \n",
    "# Defining c constant \n",
    "c = 255 / np.log(1 + np.max(image)) \n",
    "# Applying log transformation on image \n",
    "log_image = c * (np.log(image + 1)) \n",
    "   \n",
    "# Converting float to int by specifying data type\n",
    "log_image = np.array(log_image, dtype = np.uint8) \n",
    "   \n",
    "# Displaying input and output images \n",
    "plt.imshow(image) \n",
    "plt.imshow(log_image) "
   ]
  }
 ],
 "metadata": {
  "kernelspec": {
   "display_name": "Python 3",
   "language": "python",
   "name": "python3"
  },
  "language_info": {
   "codemirror_mode": {
    "name": "ipython",
    "version": 3
   },
   "file_extension": ".py",
   "mimetype": "text/x-python",
   "name": "python",
   "nbconvert_exporter": "python",
   "pygments_lexer": "ipython3",
   "version": "3.7.6"
  }
 },
 "nbformat": 4,
 "nbformat_minor": 4
}
