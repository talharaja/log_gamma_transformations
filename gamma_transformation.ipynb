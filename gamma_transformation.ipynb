{
 "cells": [
  {
   "cell_type": "code",
   "execution_count": 37,
   "metadata": {},
   "outputs": [],
   "source": [
    "import cv2 \n",
    "import numpy as np \n",
    "import matplotlib.pyplot as plt\n",
    "#opening input image\n",
    "img = cv2.imread('XYZ.jpg') \n",
    "  \n",
    "# Different gamma values for testing  \n",
    "for gamma in [0.1, 0.5, 1.0, 2.0]: \n",
    "      \n",
    "    # Applying gamma correction\n",
    "    gamma_correction = np.array(255*(img / 255) ** gamma, dtype = 'uint8') \n",
    "  \n",
    "    # Saving those different gamma edited images\n",
    "    cv2.imwrite('gamma_transform_image'+str(gamma)+'.jpg', gamma_correction) \n",
    "    "
   ]
  }
 ],
 "metadata": {
  "kernelspec": {
   "display_name": "Python 3",
   "language": "python",
   "name": "python3"
  },
  "language_info": {
   "codemirror_mode": {
    "name": "ipython",
    "version": 3
   },
   "file_extension": ".py",
   "mimetype": "text/x-python",
   "name": "python",
   "nbconvert_exporter": "python",
   "pygments_lexer": "ipython3",
   "version": "3.7.6"
  }
 },
 "nbformat": 4,
 "nbformat_minor": 4
}
